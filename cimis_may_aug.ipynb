{
 "cells": [
  {
   "cell_type": "code",
   "execution_count": 1,
   "id": "c92fe8b4-9aea-46df-aba7-8b7a743701a7",
   "metadata": {},
   "outputs": [],
   "source": [
    "import pandas as pd\n",
    "from pandas import DataFrame"
   ]
  },
  {
   "cell_type": "code",
   "execution_count": 2,
   "id": "df8c1721-2f72-4e83-be85-613fcffe27bd",
   "metadata": {},
   "outputs": [],
   "source": [
    "column_mapping = {\n",
    "    'Stn Id': 'station_id',\n",
    "    'Stn Name': 'station_name',\n",
    "    'CIMIS Region': 'region',\n",
    "    'Date': 'date',\n",
    "    'Jul': 'jul',\n",
    "    'ETo (in)': 'eto_in',\n",
    "    'Precip (in)': 'precip',\n",
    "    'Sol Rad (Ly/day)': 'sol_rad',\n",
    "    'Avg Vap Pres (mBars)': 'avg_vap_pressure',\n",
    "    'Max Air Temp (F)': 'max_air_temp',\n",
    "    \n",
    "\n",
    "}\n",
    "    "
   ]
  },
  {
   "cell_type": "code",
   "execution_count": 3,
   "id": "77f940de-04a0-4e58-b172-0eb3adc2efad",
   "metadata": {},
   "outputs": [],
   "source": [
    "weather = pd.read_csv('daily-Copy1.csv')\n",
    "weather = weather.rename(columns=column_mapping)"
   ]
  },
  {
   "cell_type": "code",
   "execution_count": 4,
   "id": "6dfe3f25-e885-473f-bd86-ae68beaf8c62",
   "metadata": {
    "scrolled": true
   },
   "outputs": [
    {
     "name": "stdout",
     "output_type": "stream",
     "text": [
      "<class 'pandas.core.frame.DataFrame'>\n",
      "RangeIndex: 93 entries, 0 to 92\n",
      "Data columns (total 33 columns):\n",
      " #   Column                Non-Null Count  Dtype  \n",
      "---  ------                --------------  -----  \n",
      " 0   station_id            93 non-null     int64  \n",
      " 1   station_name          93 non-null     object \n",
      " 2   region                93 non-null     object \n",
      " 3   date                  93 non-null     object \n",
      " 4   jul                   93 non-null     int64  \n",
      " 5   eto_in                93 non-null     float64\n",
      " 6   qc                    93 non-null     object \n",
      " 7   precip                90 non-null     float64\n",
      " 8   qc.1                  93 non-null     object \n",
      " 9   sol_rad               90 non-null     float64\n",
      " 10  qc.2                  93 non-null     object \n",
      " 11  Avg Vap Pres (mBars)  90 non-null     float64\n",
      " 12  qc.3                  93 non-null     object \n",
      " 13  Max Air Temp (F)      90 non-null     float64\n",
      " 14  qc.4                  93 non-null     object \n",
      " 15  Min Air Temp (F)      90 non-null     float64\n",
      " 16  qc.5                  93 non-null     object \n",
      " 17  Avg Air Temp (F)      90 non-null     float64\n",
      " 18  qc.6                  93 non-null     object \n",
      " 19  Max Rel Hum (%)       90 non-null     float64\n",
      " 20  qc.7                  93 non-null     object \n",
      " 21  Min Rel Hum (%)       90 non-null     float64\n",
      " 22  qc.8                  93 non-null     object \n",
      " 23  Avg Rel Hum (%)       89 non-null     float64\n",
      " 24  qc.9                  93 non-null     object \n",
      " 25  Dew Point (F)         89 non-null     float64\n",
      " 26  qc.10                 93 non-null     object \n",
      " 27  Avg Wind Speed (mph)  90 non-null     float64\n",
      " 28  qc.11                 93 non-null     object \n",
      " 29  Wind Run (miles)      90 non-null     float64\n",
      " 30  qc.12                 93 non-null     object \n",
      " 31  Avg Soil Temp (F)     90 non-null     float64\n",
      " 32  qc.13                 93 non-null     object \n",
      "dtypes: float64(14), int64(2), object(17)\n",
      "memory usage: 24.1+ KB\n"
     ]
    }
   ],
   "source": [
    "weather.info()"
   ]
  },
  {
   "cell_type": "code",
   "execution_count": null,
   "id": "f71d8f6d-83f6-4456-b3af-72470c2106dc",
   "metadata": {},
   "outputs": [],
   "source": []
  }
 ],
 "metadata": {
  "kernelspec": {
   "display_name": "Python 3 (ipykernel)",
   "language": "python",
   "name": "python3"
  },
  "language_info": {
   "codemirror_mode": {
    "name": "ipython",
    "version": 3
   },
   "file_extension": ".py",
   "mimetype": "text/x-python",
   "name": "python",
   "nbconvert_exporter": "python",
   "pygments_lexer": "ipython3",
   "version": "3.13.5"
  }
 },
 "nbformat": 4,
 "nbformat_minor": 5
}
