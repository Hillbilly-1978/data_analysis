{
 "cells": [
  {
   "cell_type": "code",
   "execution_count": 7,
   "id": "a5458610-8abf-481b-99b2-77943a45d655",
   "metadata": {},
   "outputs": [],
   "source": [
    "import pandas as pd\n",
    "from pandas import DataFrame"
   ]
  },
  {
   "cell_type": "markdown",
   "id": "70d41440-076f-4076-86a3-a8ac35a71f32",
   "metadata": {},
   "source": [
    "**Adding a column mapping library in order to make columns easier to work with:**"
   ]
  },
  {
   "cell_type": "code",
   "execution_count": 10,
   "id": "18b3e614-5a9b-425f-a8bb-ade1b333e64d",
   "metadata": {},
   "outputs": [],
   "source": [
    "column_mapping = {\n",
    "    'Stn Id': 'station_id',\n",
    "    'Stn Name': 'station_name',\n",
    "    'CIMIS Region': 'region',\n",
    "    'Date': 'date',\n",
    "    'Jul': 'jul',\n",
    "    'ETo (in)': 'eto_in',\n",
    "    'Precip (in)': 'precip',\n",
    "    'Sol Rad (Ly/day)': 'sol_rad',\n",
    "    'Avg Vap Pres (mBars)': 'avg_vap_pressure',\n",
    "    'Max Air Temp (F)': 'max_air_temp',\n",
    "    'Min Air Temp (F)': 'min_air_temp',\n",
    "    'Min Air Temp (F)': 'min_air_temp',\n",
    "    'Avg Air Temp (F)': 'avg_air_temp',\n",
    "    'Max Rel Hum (%)': 'max_rel_humidity',\n",
    "    'Min Rel Hum (%)': 'min_rel_humidity',\n",
    "    'Avg Rel Hum (%)': 'avg_rel_humidity',\n",
    "    'Dew Point (F)': 'dew_point',\n",
    "    'Avg Wind Speed (mph)': 'avg_wind_speed',\n",
    "    'Wind Run (miles)': 'wind_run_miles',\n",
    "    'Avg Soil Temp (F)': 'avg_soil_temp',\n",
    "\n",
    "}\n",
    "    "
   ]
  },
  {
   "cell_type": "markdown",
   "id": "e14b5132-75b6-4ce4-9560-ac328a4404b5",
   "metadata": {},
   "source": [
    "---\n",
    "*read in CVS file and apply mapping*"
   ]
  },
  {
   "cell_type": "code",
   "execution_count": 11,
   "id": "c8c085af-e26c-4ea9-91ed-d4df669fc897",
   "metadata": {},
   "outputs": [],
   "source": [
    "weather = pd.read_csv('daily-Copy1.csv')\n",
    "weather = weather.rename(columns=column_mapping)"
   ]
  },
  {
   "cell_type": "code",
   "execution_count": 18,
   "id": "f71d8f6d-83f6-4456-b3af-72470c2106dc",
   "metadata": {},
   "outputs": [
    {
     "name": "stdout",
     "output_type": "stream",
     "text": [
      "Date Range:  5/10/2025 to 8/5/2025\n",
      "Hottest Day:  date            7/13/2025\n",
      "max_air_temp         97.7\n",
      "Name: 69, dtype: object\n",
      "Coolest Day:  date            6/15/2025\n",
      "min_air_temp         28.1\n",
      "Name: 41, dtype: object\n"
     ]
    }
   ],
   "source": [
    "print('Date Range: ', weather['date'].min(), 'to', weather['date'].max())\n",
    "print('Hottest Day: ', weather.loc[weather['max_air_temp'].idxmax(), ['date', 'max_air_temp']])\n",
    "print('Coolest Day: ', weather.loc[weather['min_air_temp'].idxmin(), ['date', 'min_air_temp']])"
   ]
  },
  {
   "cell_type": "markdown",
   "id": "5592e4e9-31de-435c-bfd5-7a0792deb2a5",
   "metadata": {},
   "source": [
    "Dig deeper into the 28.1 degree day on June 15\n"
   ]
  },
  {
   "cell_type": "code",
   "execution_count": 20,
   "id": "633aa1da-3625-4804-b8ef-34a99ff0dce1",
   "metadata": {},
   "outputs": [
    {
     "name": "stdout",
     "output_type": "stream",
     "text": [
      "    station_id          station_name                        region       date  \\\n",
      "41         264  Sierra Valley Center  Eastern Sierra Basin & Range  6/15/2025   \n",
      "\n",
      "    jul  eto_in qc  precip qc.1  sol_rad  ... avg_rel_humidity  qc.9  \\\n",
      "41  166    0.25        0.0         665.0  ...             41.0         \n",
      "\n",
      "   dew_point  qc.10 avg_wind_speed  qc.11 wind_run_miles  qc.12 avg_soil_temp  \\\n",
      "41      33.8                   4.5                 108.9                 59.5   \n",
      "\n",
      "    qc.13  \n",
      "41         \n",
      "\n",
      "[1 rows x 33 columns]\n"
     ]
    }
   ],
   "source": [
    "cold_day = weather[weather['date'] == '6/15/2025']\n",
    "print(cold_day)"
   ]
  },
  {
   "cell_type": "markdown",
   "id": "800c74e5-0d8d-4efd-8214-931280778bd7",
   "metadata": {},
   "source": [
    "---\n",
    "the QC flag was set on 6/15/2025, false alarm, no metereological anomoly, sensor error\n"
   ]
  },
  {
   "cell_type": "code",
   "execution_count": null,
   "id": "a03aa960-ed2a-4e0f-9567-4aedfc5ae2f2",
   "metadata": {},
   "outputs": [],
   "source": []
  }
 ],
 "metadata": {
  "kernelspec": {
   "display_name": "Python 3 (ipykernel)",
   "language": "python",
   "name": "python3"
  },
  "language_info": {
   "codemirror_mode": {
    "name": "ipython",
    "version": 3
   },
   "file_extension": ".py",
   "mimetype": "text/x-python",
   "name": "python",
   "nbconvert_exporter": "python",
   "pygments_lexer": "ipython3",
   "version": "3.13.5"
  }
 },
 "nbformat": 4,
 "nbformat_minor": 5
}
