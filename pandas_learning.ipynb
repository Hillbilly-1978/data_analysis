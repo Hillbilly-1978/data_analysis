{
 "cells": [
  {
   "cell_type": "code",
   "execution_count": 2,
   "id": "4038eaef-65f4-4cdb-9779-2f90a7542178",
   "metadata": {},
   "outputs": [],
   "source": [
    "import pandas as pd\n",
    "from pandas import DataFrame"
   ]
  },
  {
   "cell_type": "markdown",
   "id": "c1090046-ab95-4357-acc0-854d6556adf5",
   "metadata": {},
   "source": [
    "### Gather Information from cvs file, and format for easier use"
   ]
  },
  {
   "cell_type": "code",
   "execution_count": 3,
   "id": "fac1f5c8-6f35-4f6c-9d04-1b17a526c17a",
   "metadata": {},
   "outputs": [],
   "source": [
    "column_mapping = {\n",
    "    'Stn Id': 'station_id',\n",
    "    'Stn Name': 'station_name',\n",
    "    'CIMIS Region': 'region',\n",
    "    'Date': 'date',\n",
    "    'Jul': 'jul',\n",
    "    'ETo (in)': 'eto_in',\n",
    "    'Precip (in)': 'precip',\n",
    "    'Sol Rad (Ly/day)': 'sol_rad',\n",
    "    'Avg Vap Pres (mBars)': 'avg_vap_pressure',\n",
    "    'Max Air Temp (F)': 'max_air_temp',\n",
    "    'Min Air Temp (F)': 'min_air_temp',\n",
    "    'Min Air Temp (F)': 'min_air_temp',\n",
    "    'Avg Air Temp (F)': 'avg_air_temp',\n",
    "    'Max Rel Hum (%)': 'max_rel_humidity',\n",
    "    'Min Rel Hum (%)': 'min_rel_humidity',\n",
    "    'Avg Rel Hum (%)': 'avg_rel_humidity',\n",
    "    'Dew Point (F)': 'dew_point',\n",
    "    'Avg Wind Speed (mph)': 'avg_wind_speed',\n",
    "    'Wind Run (miles)': 'wind_run_miles',\n",
    "    'Avg Soil Temp (F)': 'avg_soil_temp',\n",
    "\n",
    "}"
   ]
  },
  {
   "cell_type": "markdown",
   "id": "a7a14195-1355-4ebd-bc7c-6ef20a2d9b07",
   "metadata": {},
   "source": [
    "#### Read from the csv file and apply the above aliasing "
   ]
  },
  {
   "cell_type": "code",
   "execution_count": 5,
   "id": "96e6ad1b-d88a-4be8-a8c6-5e189c10011b",
   "metadata": {},
   "outputs": [],
   "source": [
    "wx = pd.read_csv('daily-Copy1.csv')\n",
    "wx = wx.rename(columns=column_mapping)"
   ]
  },
  {
   "cell_type": "markdown",
   "id": "6ba0690e-bc5e-42e8-b6d7-1719b24510a8",
   "metadata": {},
   "source": [
    "---\n",
    "**get basic information about the dataset**\n",
    "---"
   ]
  },
  {
   "cell_type": "code",
   "execution_count": 6,
   "id": "97914baf-6c64-4c41-8f9a-2b1617b48cc1",
   "metadata": {},
   "outputs": [
    {
     "name": "stdout",
     "output_type": "stream",
     "text": [
      "<class 'pandas.core.frame.DataFrame'>\n",
      "RangeIndex: 93 entries, 0 to 92\n",
      "Data columns (total 33 columns):\n",
      " #   Column            Non-Null Count  Dtype  \n",
      "---  ------            --------------  -----  \n",
      " 0   station_id        93 non-null     int64  \n",
      " 1   station_name      93 non-null     object \n",
      " 2   region            93 non-null     object \n",
      " 3   date              93 non-null     object \n",
      " 4   jul               93 non-null     int64  \n",
      " 5   eto_in            93 non-null     float64\n",
      " 6   qc1               93 non-null     object \n",
      " 7   precip            90 non-null     float64\n",
      " 8   qc2               93 non-null     object \n",
      " 9   sol_rad           90 non-null     float64\n",
      " 10  qc3               93 non-null     object \n",
      " 11  avg_vap_pressure  90 non-null     float64\n",
      " 12  qc5               93 non-null     object \n",
      " 13  max_air_temp      90 non-null     float64\n",
      " 14  qc6               93 non-null     object \n",
      " 15  min_air_temp      90 non-null     float64\n",
      " 16  qc7               93 non-null     object \n",
      " 17  avg_air_temp      90 non-null     float64\n",
      " 18  qc8               93 non-null     object \n",
      " 19  max_rel_humidity  90 non-null     float64\n",
      " 20  qc9               93 non-null     object \n",
      " 21  min_rel_humidity  90 non-null     float64\n",
      " 22  qc10              93 non-null     object \n",
      " 23  avg_rel_humidity  89 non-null     float64\n",
      " 24  qc11              93 non-null     object \n",
      " 25  dew_point         89 non-null     float64\n",
      " 26  qc12              93 non-null     object \n",
      " 27  avg_wind_speed    90 non-null     float64\n",
      " 28  qc13              93 non-null     object \n",
      " 29  wind_run_miles    90 non-null     float64\n",
      " 30  qc14              93 non-null     object \n",
      " 31  avg_soil_temp     90 non-null     float64\n",
      " 32  qc15              93 non-null     object \n",
      "dtypes: float64(14), int64(2), object(17)\n",
      "memory usage: 24.1+ KB\n"
     ]
    }
   ],
   "source": [
    "wx.info()"
   ]
  },
  {
   "cell_type": "code",
   "execution_count": 7,
   "id": "7dc22b84-f906-4d22-8481-d51894b43d9a",
   "metadata": {},
   "outputs": [
    {
     "data": {
      "text/plain": [
       "<pandas.core.indexing._LocIndexer at 0x7f374495fbb0>"
      ]
     },
     "execution_count": 7,
     "metadata": {},
     "output_type": "execute_result"
    }
   ],
   "source": [
    "wx[\"dew_point\"].loc()"
   ]
  },
  {
   "cell_type": "code",
   "execution_count": 8,
   "id": "519568c1-4373-4d68-a4f2-84afe36b4df5",
   "metadata": {},
   "outputs": [
    {
     "data": {
      "text/plain": [
       "52.3"
      ]
     },
     "execution_count": 8,
     "metadata": {},
     "output_type": "execute_result"
    }
   ],
   "source": [
    "wx[\"dew_point\"].max()"
   ]
  },
  {
   "cell_type": "code",
   "execution_count": 9,
   "id": "4c67ca65-c6f8-43ee-911f-91774bffab16",
   "metadata": {},
   "outputs": [
    {
     "data": {
      "text/plain": [
       "69"
      ]
     },
     "execution_count": 9,
     "metadata": {},
     "output_type": "execute_result"
    }
   ],
   "source": [
    "wx[\"dew_point\"].idxmax()"
   ]
  },
  {
   "cell_type": "code",
   "execution_count": 14,
   "id": "52bbeac9-c736-42d0-b05a-c3cae56e1986",
   "metadata": {},
   "outputs": [
    {
     "data": {
      "text/plain": [
       "date         7/13/2025\n",
       "dew_point         52.3\n",
       "Name: 69, dtype: object"
      ]
     },
     "execution_count": 14,
     "metadata": {},
     "output_type": "execute_result"
    }
   ],
   "source": [
    "wx.loc[wx[\"dew_point\"].idxmax(), [\"date\", \"dew_point\"]]"
   ]
  },
  {
   "cell_type": "code",
   "execution_count": 15,
   "id": "60f06e34-734c-40a8-9214-ebb011b5cf27",
   "metadata": {},
   "outputs": [
    {
     "name": "stdout",
     "output_type": "stream",
     "text": [
      "    station_id          station_name                        region       date  \\\n",
      "69         264  Sierra Valley Center  Eastern Sierra Basin & Range  7/13/2025   \n",
      "\n",
      "    jul  eto_in qc1  precip qc2  sol_rad  ... avg_rel_humidity  qc11  \\\n",
      "69  194    0.25         0.0        620.0  ...             47.0         \n",
      "\n",
      "   dew_point  qc12 avg_wind_speed  qc13 wind_run_miles  qc14 avg_soil_temp  \\\n",
      "69      52.3                  4.1                 97.6                66.7   \n",
      "\n",
      "    qc15  \n",
      "69        \n",
      "\n",
      "[1 rows x 33 columns]\n"
     ]
    }
   ],
   "source": [
    "sticky_day = wx[wx['date'] == \"7/13/2025\"]\n",
    "print(sticky_day)\n",
    "    "
   ]
  },
  {
   "cell_type": "markdown",
   "id": "112e956a-2c8b-4ede-ab4f-1a03f67a275c",
   "metadata": {},
   "source": [
    "### Correlation table"
   ]
  },
  {
   "cell_type": "code",
   "execution_count": 18,
   "id": "d73467b1-036b-4733-8eda-20bce93ce711",
   "metadata": {},
   "outputs": [
    {
     "name": "stdout",
     "output_type": "stream",
     "text": [
      "                  station_id       jul    eto_in    precip   sol_rad  \\\n",
      "station_id               NaN       NaN       NaN       NaN       NaN   \n",
      "jul                      NaN  1.000000  0.275026  0.010592 -0.126436   \n",
      "eto_in                   NaN  0.275026  1.000000 -0.403902  0.394802   \n",
      "precip                   NaN  0.010592 -0.403902  1.000000 -0.262194   \n",
      "sol_rad                  NaN -0.126436  0.394802 -0.262194  1.000000   \n",
      "avg_vap_pressure         NaN  0.308666  0.026269  0.096023 -0.265309   \n",
      "max_air_temp             NaN  0.625846  0.599782 -0.246063  0.202965   \n",
      "min_air_temp             NaN  0.381446  0.157304 -0.042613 -0.506066   \n",
      "avg_air_temp             NaN  0.596603  0.620295 -0.284878  0.062780   \n",
      "max_rel_humidity         NaN  0.117987 -0.128352  0.077160 -0.039206   \n",
      "min_rel_humidity         NaN -0.560894 -0.763079  0.435034 -0.253840   \n",
      "avg_rel_humidity         NaN -0.454387 -0.794931  0.592108 -0.371496   \n",
      "dew_point                NaN  0.304112  0.057773 -0.084992 -0.232910   \n",
      "avg_wind_speed           NaN -0.232019  0.161477  0.020970  0.035304   \n",
      "wind_run_miles           NaN -0.228976  0.162417  0.022872  0.038080   \n",
      "avg_soil_temp            NaN  0.916616  0.461610 -0.146590 -0.164454   \n",
      "\n",
      "                  avg_vap_pressure  max_air_temp  min_air_temp  avg_air_temp  \\\n",
      "station_id                     NaN           NaN           NaN           NaN   \n",
      "jul                       0.308666      0.625846      0.381446      0.596603   \n",
      "eto_in                    0.026269      0.599782      0.157304      0.620295   \n",
      "precip                    0.096023     -0.246063     -0.042613     -0.284878   \n",
      "sol_rad                  -0.265309      0.202965     -0.506066      0.062780   \n",
      "avg_vap_pressure          1.000000      0.629295      0.731848      0.683266   \n",
      "max_air_temp              0.629295      1.000000      0.482836      0.952516   \n",
      "min_air_temp              0.731848      0.482836      1.000000      0.678631   \n",
      "avg_air_temp              0.683266      0.952516      0.678631      1.000000   \n",
      "max_rel_humidity          0.369128      0.214780     -0.103731      0.116656   \n",
      "min_rel_humidity         -0.155319     -0.777608     -0.230548     -0.732136   \n",
      "avg_rel_humidity          0.233543     -0.525298     -0.042263     -0.511726   \n",
      "dew_point                 0.993602      0.652297      0.721642      0.710820   \n",
      "avg_wind_speed           -0.468145     -0.434499     -0.051132     -0.301528   \n",
      "wind_run_miles           -0.468516     -0.433593     -0.053428     -0.301612   \n",
      "avg_soil_temp             0.433822      0.770549      0.575386      0.796192   \n",
      "\n",
      "                  max_rel_humidity  min_rel_humidity  avg_rel_humidity  \\\n",
      "station_id                     NaN               NaN               NaN   \n",
      "jul                       0.117987         -0.560894         -0.454387   \n",
      "eto_in                   -0.128352         -0.763079         -0.794931   \n",
      "precip                    0.077160          0.435034          0.592108   \n",
      "sol_rad                  -0.039206         -0.253840         -0.371496   \n",
      "avg_vap_pressure          0.369128         -0.155319          0.233543   \n",
      "max_air_temp              0.214780         -0.777608         -0.525298   \n",
      "min_air_temp             -0.103731         -0.230548         -0.042263   \n",
      "avg_air_temp              0.116656         -0.732136         -0.511726   \n",
      "max_rel_humidity          1.000000         -0.030970          0.325061   \n",
      "min_rel_humidity         -0.030970          1.000000          0.802278   \n",
      "avg_rel_humidity          0.325061          0.802278          1.000000   \n",
      "dew_point                 0.414130         -0.184838          0.233472   \n",
      "avg_wind_speed           -0.617272          0.201714         -0.159586   \n",
      "wind_run_miles           -0.615937          0.201560         -0.159952   \n",
      "avg_soil_temp             0.082992         -0.696369         -0.543089   \n",
      "\n",
      "                  dew_point  avg_wind_speed  wind_run_miles  avg_soil_temp  \n",
      "station_id              NaN             NaN             NaN            NaN  \n",
      "jul                0.304112       -0.232019       -0.228976       0.916616  \n",
      "eto_in             0.057773        0.161477        0.162417       0.461610  \n",
      "precip            -0.084992        0.020970        0.022872      -0.146590  \n",
      "sol_rad           -0.232910        0.035304        0.038080      -0.164454  \n",
      "avg_vap_pressure   0.993602       -0.468145       -0.468516       0.433822  \n",
      "max_air_temp       0.652297       -0.434499       -0.433593       0.770549  \n",
      "min_air_temp       0.721642       -0.051132       -0.053428       0.575386  \n",
      "avg_air_temp       0.710820       -0.301528       -0.301612       0.796192  \n",
      "max_rel_humidity   0.414130       -0.617272       -0.615937       0.082992  \n",
      "min_rel_humidity  -0.184838        0.201714        0.201560      -0.696369  \n",
      "avg_rel_humidity   0.233472       -0.159586       -0.159952      -0.543089  \n",
      "dew_point          1.000000       -0.496231       -0.496559       0.442993  \n",
      "avg_wind_speed    -0.496231        1.000000        0.999864      -0.210926  \n",
      "wind_run_miles    -0.496559        0.999864        1.000000      -0.210049  \n",
      "avg_soil_temp      0.442993       -0.210926       -0.210049       1.000000  \n"
     ]
    }
   ],
   "source": [
    "numeric_cols = wx.select_dtypes(include=['float64', 'int64'])\n",
    "print(numeric_cols.corr())"
   ]
  },
  {
   "cell_type": "code",
   "execution_count": null,
   "id": "d64198c4-7d26-4a7e-b339-ae3678b04235",
   "metadata": {},
   "outputs": [],
   "source": []
  }
 ],
 "metadata": {
  "kernelspec": {
   "display_name": "Python 3 (ipykernel)",
   "language": "python",
   "name": "python3"
  },
  "language_info": {
   "codemirror_mode": {
    "name": "ipython",
    "version": 3
   },
   "file_extension": ".py",
   "mimetype": "text/x-python",
   "name": "python",
   "nbconvert_exporter": "python",
   "pygments_lexer": "ipython3",
   "version": "3.13.5"
  }
 },
 "nbformat": 4,
 "nbformat_minor": 5
}
