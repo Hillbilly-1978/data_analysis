{
 "cells": [
  {
   "cell_type": "code",
   "execution_count": 114,
   "id": "05c2813d-c4ba-4f6a-a2fc-e23796ff6c69",
   "metadata": {},
   "outputs": [],
   "source": [
    "import numpy as np\n",
    "import pandas as pd\n",
    "from pandas import DataFrame\n",
    "import matplotlib.pyplot as plt\n",
    "import matplotlib.dates as pltd"
   ]
  },
  {
   "cell_type": "code",
   "execution_count": 97,
   "id": "7f6f31b3-39d7-4ed7-baf5-96dbf9e3d62c",
   "metadata": {},
   "outputs": [],
   "source": [
    "column_mapping = {\n",
    "    'Stn Id': 'station_id',\n",
    "    'Stn Name': 'station_name',\n",
    "    'CIMIS Region': 'region',\n",
    "    'Date': 'date',\n",
    "    'Jul': 'jul',\n",
    "    'ETo (in)': 'eto_in',\n",
    "    'Precip (in)': 'precip',\n",
    "    'Sol Rad (Ly/day)': 'sol_rad',\n",
    "    'Avg Vap Pres (mBars)': 'avg_vap_pressure',\n",
    "    'Max Air Temp (F)': 'max_air_temp',\n",
    "    'Min Air Temp (F)': 'min_air_temp',\n",
    "    'Min Air Temp (F)': 'min_air_temp',\n",
    "    'Avg Air Temp (F)': 'avg_air_temp',\n",
    "    'Max Rel Hum (%)': 'max_rel_humidity',\n",
    "    'Min Rel Hum (%)': 'min_rel_humidity',\n",
    "    'Avg Rel Hum (%)': 'avg_rel_humidity',\n",
    "    'Dew Point (F)': 'dew_point',\n",
    "    'Avg Wind Speed (mph)': 'avg_wind_speed',\n",
    "    'Wind Run (miles)': 'wind_run_miles',\n",
    "    'Avg Soil Temp (F)': 'avg_soil_temp',\n",
    "\n",
    "}"
   ]
  },
  {
   "cell_type": "code",
   "execution_count": 106,
   "id": "46e2c994-74c0-4660-9dff-b50ae718bb74",
   "metadata": {},
   "outputs": [],
   "source": [
    "wx = pd.read_csv(\"cimis_11-20-8-25.csv\")\n",
    "wx = wx.rename(columns=column_mapping)"
   ]
  },
  {
   "cell_type": "markdown",
   "id": "1ead22de-67e5-495a-9e7b-946d4570d636",
   "metadata": {
    "jp-MarkdownHeadingCollapsed": true
   },
   "source": [
    "---\n",
    "### Highest Temperature recorded in the dataset"
   ]
  },
  {
   "cell_type": "code",
   "execution_count": 4,
   "id": "a9b7d88b-c0df-4a4d-87ec-2a7f20a37df5",
   "metadata": {
    "scrolled": true
   },
   "outputs": [
    {
     "name": "stdout",
     "output_type": "stream",
     "text": [
      "date            7/10/2021\n",
      "max_air_temp         99.0\n",
      "Name: 244, dtype: object\n"
     ]
    }
   ],
   "source": [
    "print(wx.loc[wx[\"max_air_temp\"].idxmax(), [\"date\", \"max_air_temp\"]])"
   ]
  },
  {
   "cell_type": "markdown",
   "id": "8472ce02-a6f0-481e-b2f5-de3eb72b2d7f",
   "metadata": {
    "jp-MarkdownHeadingCollapsed": true
   },
   "source": [
    "---\n",
    "### Other data from the hottest day "
   ]
  },
  {
   "cell_type": "code",
   "execution_count": 10,
   "id": "5760429a-4ce6-4dbb-b157-21194b1af382",
   "metadata": {},
   "outputs": [
    {
     "name": "stdout",
     "output_type": "stream",
     "text": [
      "     station_id          station_name                        region  \\\n",
      "244         264  Sierra Valley Center  Eastern Sierra Basin & Range   \n",
      "\n",
      "          date  jul  eto_in qc  precip qc.1  sol_rad  ... avg_rel_humidity  \\\n",
      "244  7/10/2021  191    0.32        0.0         687.0  ...             33.0   \n",
      "\n",
      "     qc.9 dew_point  qc.10 avg_wind_speed  qc.11 wind_run_miles  qc.12  \\\n",
      "244            45.3                   5.4                 129.8          \n",
      "\n",
      "    avg_soil_temp  qc.13  \n",
      "244          73.7         \n",
      "\n",
      "[1 rows x 33 columns]\n"
     ]
    }
   ],
   "source": [
    "highest_temp = wx[wx['date'] == '7/10/2021']\n",
    "print(highest_temp)"
   ]
  },
  {
   "cell_type": "markdown",
   "id": "5f580a98-71ae-4955-b856-67b0b4a39d7e",
   "metadata": {
    "jp-MarkdownHeadingCollapsed": true
   },
   "source": [
    "---\n",
    "### Code to display the 10 coldest and 10 hottest days respectively "
   ]
  },
  {
   "cell_type": "code",
   "execution_count": 7,
   "id": "8570b3e9-a110-47e7-84c9-5c4a1c622aff",
   "metadata": {},
   "outputs": [
    {
     "name": "stdout",
     "output_type": "stream",
     "text": [
      "\n",
      "Lowest 10 temps\n",
      "            date  min_air_temp\n",
      "419     1/1/2022         -13.8\n",
      "1155    1/7/2024         -13.2\n",
      "814    1/31/2023         -11.4\n",
      "420     1/2/2022         -10.9\n",
      "754    12/2/2022          -9.9\n",
      "402   12/15/2021          -7.2\n",
      "404   12/17/2021          -7.2\n",
      "1156    1/8/2024          -6.9\n",
      "804    1/21/2023          -6.8\n",
      "771   12/19/2022          -6.2\n"
     ]
    }
   ],
   "source": [
    "print('\\nLowest 10 temps')\n",
    "print(wx.nsmallest(10, 'min_air_temp')[['date', 'min_air_temp']])"
   ]
  },
  {
   "cell_type": "code",
   "execution_count": 8,
   "id": "c70b9fb2-7226-4bab-904d-b05dba29487c",
   "metadata": {},
   "outputs": [
    {
     "name": "stdout",
     "output_type": "stream",
     "text": [
      "\n",
      "Highest 10 temps\n",
      "           date  max_air_temp\n",
      "244   7/10/2021          99.0\n",
      "232   6/28/2021          98.5\n",
      "245   7/11/2021          98.4\n",
      "246   7/12/2021          98.2\n",
      "280   8/15/2021          97.7\n",
      "1708  7/13/2025          97.7\n",
      "243    7/9/2021          97.4\n",
      "281   8/16/2021          97.4\n",
      "628   7/29/2022          97.4\n",
      "667    9/6/2022          97.4\n"
     ]
    }
   ],
   "source": [
    "print('\\nHighest 10 temps')\n",
    "print(wx.nlargest(10, 'max_air_temp')[['date', 'max_air_temp']])"
   ]
  },
  {
   "cell_type": "markdown",
   "id": "b236a1f3-9c33-446b-a1a9-2077eda78c63",
   "metadata": {},
   "source": [
    "---\n",
    "---\n",
    "## Begin Tutorial"
   ]
  },
  {
   "cell_type": "code",
   "execution_count": 84,
   "id": "256db998-322b-4394-a97f-0fe24a7c489b",
   "metadata": {
    "scrolled": true
   },
   "outputs": [
    {
     "data": {
      "text/html": [
       "<div>\n",
       "<style scoped>\n",
       "    .dataframe tbody tr th:only-of-type {\n",
       "        vertical-align: middle;\n",
       "    }\n",
       "\n",
       "    .dataframe tbody tr th {\n",
       "        vertical-align: top;\n",
       "    }\n",
       "\n",
       "    .dataframe thead th {\n",
       "        text-align: right;\n",
       "    }\n",
       "</style>\n",
       "<table border=\"1\" class=\"dataframe\">\n",
       "  <thead>\n",
       "    <tr style=\"text-align: right;\">\n",
       "      <th></th>\n",
       "      <th>station_id</th>\n",
       "      <th>station_name</th>\n",
       "      <th>region</th>\n",
       "      <th>jul</th>\n",
       "      <th>eto_in</th>\n",
       "      <th>qc</th>\n",
       "      <th>precip</th>\n",
       "      <th>qc.1</th>\n",
       "      <th>sol_rad</th>\n",
       "      <th>qc.2</th>\n",
       "      <th>...</th>\n",
       "      <th>avg_rel_humidity</th>\n",
       "      <th>qc.9</th>\n",
       "      <th>dew_point</th>\n",
       "      <th>qc.10</th>\n",
       "      <th>avg_wind_speed</th>\n",
       "      <th>qc.11</th>\n",
       "      <th>wind_run_miles</th>\n",
       "      <th>qc.12</th>\n",
       "      <th>avg_soil_temp</th>\n",
       "      <th>qc.13</th>\n",
       "    </tr>\n",
       "    <tr>\n",
       "      <th>Date</th>\n",
       "      <th></th>\n",
       "      <th></th>\n",
       "      <th></th>\n",
       "      <th></th>\n",
       "      <th></th>\n",
       "      <th></th>\n",
       "      <th></th>\n",
       "      <th></th>\n",
       "      <th></th>\n",
       "      <th></th>\n",
       "      <th></th>\n",
       "      <th></th>\n",
       "      <th></th>\n",
       "      <th></th>\n",
       "      <th></th>\n",
       "      <th></th>\n",
       "      <th></th>\n",
       "      <th></th>\n",
       "      <th></th>\n",
       "      <th></th>\n",
       "      <th></th>\n",
       "    </tr>\n",
       "  </thead>\n",
       "  <tbody>\n",
       "    <tr>\n",
       "      <th>11/7/2020</th>\n",
       "      <td>264</td>\n",
       "      <td>Sierra Valley Center</td>\n",
       "      <td>Eastern Sierra Basin &amp; Range</td>\n",
       "      <td>312</td>\n",
       "      <td>0.03</td>\n",
       "      <td></td>\n",
       "      <td>0.00</td>\n",
       "      <td></td>\n",
       "      <td>120.0</td>\n",
       "      <td></td>\n",
       "      <td>...</td>\n",
       "      <td>81.0</td>\n",
       "      <td></td>\n",
       "      <td>27.0</td>\n",
       "      <td></td>\n",
       "      <td>6.5</td>\n",
       "      <td></td>\n",
       "      <td>156.8</td>\n",
       "      <td></td>\n",
       "      <td>44.5</td>\n",
       "      <td></td>\n",
       "    </tr>\n",
       "    <tr>\n",
       "      <th>11/8/2020</th>\n",
       "      <td>264</td>\n",
       "      <td>Sierra Valley Center</td>\n",
       "      <td>Eastern Sierra Basin &amp; Range</td>\n",
       "      <td>313</td>\n",
       "      <td>0.04</td>\n",
       "      <td></td>\n",
       "      <td>0.06</td>\n",
       "      <td></td>\n",
       "      <td>217.0</td>\n",
       "      <td></td>\n",
       "      <td>...</td>\n",
       "      <td>81.0</td>\n",
       "      <td>Y</td>\n",
       "      <td>20.0</td>\n",
       "      <td>Y</td>\n",
       "      <td>4.2</td>\n",
       "      <td></td>\n",
       "      <td>102.0</td>\n",
       "      <td></td>\n",
       "      <td>42.7</td>\n",
       "      <td></td>\n",
       "    </tr>\n",
       "    <tr>\n",
       "      <th>11/9/2020</th>\n",
       "      <td>264</td>\n",
       "      <td>Sierra Valley Center</td>\n",
       "      <td>Eastern Sierra Basin &amp; Range</td>\n",
       "      <td>314</td>\n",
       "      <td>0.04</td>\n",
       "      <td></td>\n",
       "      <td>0.00</td>\n",
       "      <td></td>\n",
       "      <td>269.0</td>\n",
       "      <td></td>\n",
       "      <td>...</td>\n",
       "      <td>80.0</td>\n",
       "      <td>Y</td>\n",
       "      <td>14.3</td>\n",
       "      <td>Y</td>\n",
       "      <td>3.6</td>\n",
       "      <td></td>\n",
       "      <td>86.7</td>\n",
       "      <td></td>\n",
       "      <td>38.0</td>\n",
       "      <td>Y</td>\n",
       "    </tr>\n",
       "    <tr>\n",
       "      <th>11/10/2020</th>\n",
       "      <td>264</td>\n",
       "      <td>Sierra Valley Center</td>\n",
       "      <td>Eastern Sierra Basin &amp; Range</td>\n",
       "      <td>315</td>\n",
       "      <td>0.07</td>\n",
       "      <td></td>\n",
       "      <td>0.00</td>\n",
       "      <td></td>\n",
       "      <td>289.0</td>\n",
       "      <td></td>\n",
       "      <td>...</td>\n",
       "      <td>65.0</td>\n",
       "      <td></td>\n",
       "      <td>19.7</td>\n",
       "      <td></td>\n",
       "      <td>3.9</td>\n",
       "      <td></td>\n",
       "      <td>92.7</td>\n",
       "      <td></td>\n",
       "      <td>38.1</td>\n",
       "      <td>Y</td>\n",
       "    </tr>\n",
       "    <tr>\n",
       "      <th>11/11/2020</th>\n",
       "      <td>264</td>\n",
       "      <td>Sierra Valley Center</td>\n",
       "      <td>Eastern Sierra Basin &amp; Range</td>\n",
       "      <td>316</td>\n",
       "      <td>0.06</td>\n",
       "      <td></td>\n",
       "      <td>0.00</td>\n",
       "      <td></td>\n",
       "      <td>256.0</td>\n",
       "      <td></td>\n",
       "      <td>...</td>\n",
       "      <td>66.0</td>\n",
       "      <td></td>\n",
       "      <td>19.2</td>\n",
       "      <td></td>\n",
       "      <td>3.2</td>\n",
       "      <td></td>\n",
       "      <td>77.1</td>\n",
       "      <td></td>\n",
       "      <td>38.2</td>\n",
       "      <td>Y</td>\n",
       "    </tr>\n",
       "  </tbody>\n",
       "</table>\n",
       "<p>5 rows × 32 columns</p>\n",
       "</div>"
      ],
      "text/plain": [
       "            station_id          station_name                        region  \\\n",
       "Date                                                                         \n",
       "11/7/2020          264  Sierra Valley Center  Eastern Sierra Basin & Range   \n",
       "11/8/2020          264  Sierra Valley Center  Eastern Sierra Basin & Range   \n",
       "11/9/2020          264  Sierra Valley Center  Eastern Sierra Basin & Range   \n",
       "11/10/2020         264  Sierra Valley Center  Eastern Sierra Basin & Range   \n",
       "11/11/2020         264  Sierra Valley Center  Eastern Sierra Basin & Range   \n",
       "\n",
       "            jul  eto_in qc  precip qc.1  sol_rad qc.2  ...  avg_rel_humidity  \\\n",
       "Date                                                   ...                     \n",
       "11/7/2020   312    0.03       0.00         120.0       ...              81.0   \n",
       "11/8/2020   313    0.04       0.06         217.0       ...              81.0   \n",
       "11/9/2020   314    0.04       0.00         269.0       ...              80.0   \n",
       "11/10/2020  315    0.07       0.00         289.0       ...              65.0   \n",
       "11/11/2020  316    0.06       0.00         256.0       ...              66.0   \n",
       "\n",
       "           qc.9  dew_point qc.10  avg_wind_speed qc.11  wind_run_miles qc.12  \\\n",
       "Date                                                                           \n",
       "11/7/2020             27.0                   6.5                 156.8         \n",
       "11/8/2020     Y       20.0     Y             4.2                 102.0         \n",
       "11/9/2020     Y       14.3     Y             3.6                  86.7         \n",
       "11/10/2020            19.7                   3.9                  92.7         \n",
       "11/11/2020            19.2                   3.2                  77.1         \n",
       "\n",
       "            avg_soil_temp qc.13  \n",
       "Date                             \n",
       "11/7/2020            44.5        \n",
       "11/8/2020            42.7        \n",
       "11/9/2020            38.0     Y  \n",
       "11/10/2020           38.1     Y  \n",
       "11/11/2020           38.2     Y  \n",
       "\n",
       "[5 rows x 32 columns]"
      ]
     },
     "execution_count": 84,
     "metadata": {},
     "output_type": "execute_result"
    }
   ],
   "source": [
    "wx.head() # Lists the first 5 enteries in dataframe,can take argument to adjust number of records"
   ]
  },
  {
   "cell_type": "code",
   "execution_count": 16,
   "id": "475a388a-f198-4088-b73d-0008aa0bf273",
   "metadata": {
    "collapsed": true,
    "jupyter": {
     "outputs_hidden": true
    },
    "scrolled": true
   },
   "outputs": [
    {
     "data": {
      "text/html": [
       "<div>\n",
       "<style scoped>\n",
       "    .dataframe tbody tr th:only-of-type {\n",
       "        vertical-align: middle;\n",
       "    }\n",
       "\n",
       "    .dataframe tbody tr th {\n",
       "        vertical-align: top;\n",
       "    }\n",
       "\n",
       "    .dataframe thead th {\n",
       "        text-align: right;\n",
       "    }\n",
       "</style>\n",
       "<table border=\"1\" class=\"dataframe\">\n",
       "  <thead>\n",
       "    <tr style=\"text-align: right;\">\n",
       "      <th></th>\n",
       "      <th>station_id</th>\n",
       "      <th>station_name</th>\n",
       "      <th>region</th>\n",
       "      <th>date</th>\n",
       "      <th>jul</th>\n",
       "      <th>eto_in</th>\n",
       "      <th>qc</th>\n",
       "      <th>precip</th>\n",
       "      <th>qc.1</th>\n",
       "      <th>sol_rad</th>\n",
       "      <th>...</th>\n",
       "      <th>avg_rel_humidity</th>\n",
       "      <th>qc.9</th>\n",
       "      <th>dew_point</th>\n",
       "      <th>qc.10</th>\n",
       "      <th>avg_wind_speed</th>\n",
       "      <th>qc.11</th>\n",
       "      <th>wind_run_miles</th>\n",
       "      <th>qc.12</th>\n",
       "      <th>avg_soil_temp</th>\n",
       "      <th>qc.13</th>\n",
       "    </tr>\n",
       "  </thead>\n",
       "  <tbody>\n",
       "    <tr>\n",
       "      <th>1729</th>\n",
       "      <td>264</td>\n",
       "      <td>Sierra Valley Center</td>\n",
       "      <td>Eastern Sierra Basin &amp; Range</td>\n",
       "      <td>8/3/2025</td>\n",
       "      <td>215</td>\n",
       "      <td>0.27</td>\n",
       "      <td>R</td>\n",
       "      <td>0.0</td>\n",
       "      <td></td>\n",
       "      <td>693.0</td>\n",
       "      <td>...</td>\n",
       "      <td>39.0</td>\n",
       "      <td>Y</td>\n",
       "      <td>35.6</td>\n",
       "      <td>Y</td>\n",
       "      <td>5.4</td>\n",
       "      <td></td>\n",
       "      <td>130.5</td>\n",
       "      <td></td>\n",
       "      <td>64.9</td>\n",
       "      <td></td>\n",
       "    </tr>\n",
       "    <tr>\n",
       "      <th>1730</th>\n",
       "      <td>264</td>\n",
       "      <td>Sierra Valley Center</td>\n",
       "      <td>Eastern Sierra Basin &amp; Range</td>\n",
       "      <td>8/4/2025</td>\n",
       "      <td>216</td>\n",
       "      <td>0.26</td>\n",
       "      <td>R</td>\n",
       "      <td>0.0</td>\n",
       "      <td></td>\n",
       "      <td>685.0</td>\n",
       "      <td>...</td>\n",
       "      <td>43.0</td>\n",
       "      <td>Y</td>\n",
       "      <td>36.8</td>\n",
       "      <td>Y</td>\n",
       "      <td>5.1</td>\n",
       "      <td></td>\n",
       "      <td>122.9</td>\n",
       "      <td></td>\n",
       "      <td>64.7</td>\n",
       "      <td></td>\n",
       "    </tr>\n",
       "    <tr>\n",
       "      <th>1731</th>\n",
       "      <td>264</td>\n",
       "      <td>Sierra Valley Center</td>\n",
       "      <td>Eastern Sierra Basin &amp; Range</td>\n",
       "      <td>8/5/2025</td>\n",
       "      <td>217</td>\n",
       "      <td>0.25</td>\n",
       "      <td>R</td>\n",
       "      <td>0.0</td>\n",
       "      <td></td>\n",
       "      <td>682.0</td>\n",
       "      <td>...</td>\n",
       "      <td>42.0</td>\n",
       "      <td>Y</td>\n",
       "      <td>37.2</td>\n",
       "      <td>Y</td>\n",
       "      <td>4.4</td>\n",
       "      <td></td>\n",
       "      <td>106.4</td>\n",
       "      <td></td>\n",
       "      <td>64.5</td>\n",
       "      <td></td>\n",
       "    </tr>\n",
       "    <tr>\n",
       "      <th>1732</th>\n",
       "      <td>264</td>\n",
       "      <td>Sierra Valley Center</td>\n",
       "      <td>Eastern Sierra Basin &amp; Range</td>\n",
       "      <td>8/6/2025</td>\n",
       "      <td>218</td>\n",
       "      <td>0.23</td>\n",
       "      <td></td>\n",
       "      <td>0.0</td>\n",
       "      <td></td>\n",
       "      <td>618.0</td>\n",
       "      <td>...</td>\n",
       "      <td>44.0</td>\n",
       "      <td></td>\n",
       "      <td>39.1</td>\n",
       "      <td></td>\n",
       "      <td>4.3</td>\n",
       "      <td></td>\n",
       "      <td>102.4</td>\n",
       "      <td></td>\n",
       "      <td>64.4</td>\n",
       "      <td></td>\n",
       "    </tr>\n",
       "    <tr>\n",
       "      <th>1733</th>\n",
       "      <td>264</td>\n",
       "      <td>Sierra Valley Center</td>\n",
       "      <td>Eastern Sierra Basin &amp; Range</td>\n",
       "      <td>8/7/2025</td>\n",
       "      <td>219</td>\n",
       "      <td>0.25</td>\n",
       "      <td></td>\n",
       "      <td>0.0</td>\n",
       "      <td></td>\n",
       "      <td>660.0</td>\n",
       "      <td>...</td>\n",
       "      <td>47.0</td>\n",
       "      <td></td>\n",
       "      <td>42.2</td>\n",
       "      <td></td>\n",
       "      <td>4.5</td>\n",
       "      <td></td>\n",
       "      <td>107.5</td>\n",
       "      <td></td>\n",
       "      <td>64.8</td>\n",
       "      <td></td>\n",
       "    </tr>\n",
       "  </tbody>\n",
       "</table>\n",
       "<p>5 rows × 33 columns</p>\n",
       "</div>"
      ],
      "text/plain": [
       "      station_id          station_name                        region  \\\n",
       "1729         264  Sierra Valley Center  Eastern Sierra Basin & Range   \n",
       "1730         264  Sierra Valley Center  Eastern Sierra Basin & Range   \n",
       "1731         264  Sierra Valley Center  Eastern Sierra Basin & Range   \n",
       "1732         264  Sierra Valley Center  Eastern Sierra Basin & Range   \n",
       "1733         264  Sierra Valley Center  Eastern Sierra Basin & Range   \n",
       "\n",
       "          date  jul  eto_in qc  precip qc.1  sol_rad  ... avg_rel_humidity  \\\n",
       "1729  8/3/2025  215    0.27  R     0.0         693.0  ...             39.0   \n",
       "1730  8/4/2025  216    0.26  R     0.0         685.0  ...             43.0   \n",
       "1731  8/5/2025  217    0.25  R     0.0         682.0  ...             42.0   \n",
       "1732  8/6/2025  218    0.23        0.0         618.0  ...             44.0   \n",
       "1733  8/7/2025  219    0.25        0.0         660.0  ...             47.0   \n",
       "\n",
       "      qc.9 dew_point  qc.10 avg_wind_speed  qc.11 wind_run_miles  qc.12  \\\n",
       "1729     Y      35.6      Y            5.4                 130.5          \n",
       "1730     Y      36.8      Y            5.1                 122.9          \n",
       "1731     Y      37.2      Y            4.4                 106.4          \n",
       "1732            39.1                   4.3                 102.4          \n",
       "1733            42.2                   4.5                 107.5          \n",
       "\n",
       "     avg_soil_temp  qc.13  \n",
       "1729          64.9         \n",
       "1730          64.7         \n",
       "1731          64.5         \n",
       "1732          64.4         \n",
       "1733          64.8         \n",
       "\n",
       "[5 rows x 33 columns]"
      ]
     },
     "execution_count": 16,
     "metadata": {},
     "output_type": "execute_result"
    }
   ],
   "source": [
    "wx.tail() #Lists the last 5 values in dataframe, can take argument to adjust number of records"
   ]
  },
  {
   "cell_type": "markdown",
   "id": "d1468e95-45ac-4f62-823c-6feeb1f53c9b",
   "metadata": {},
   "source": [
    "---\n",
    "### Pandas Attributes"
   ]
  },
  {
   "cell_type": "code",
   "execution_count": 18,
   "id": "71c484dd-bd30-4658-bfa6-0c382fe727ad",
   "metadata": {},
   "outputs": [
    {
     "data": {
      "text/plain": [
       "(1734, 33)"
      ]
     },
     "execution_count": 18,
     "metadata": {},
     "output_type": "execute_result"
    }
   ],
   "source": [
    "wx.shape #gives the axis dimensions of the object, consistent with ndarray"
   ]
  },
  {
   "cell_type": "code",
   "execution_count": 53,
   "id": "bc3dc80f-eb40-4f97-80d5-c4036d6b9bb3",
   "metadata": {},
   "outputs": [
    {
     "data": {
      "text/plain": [
       "(1734, 32)"
      ]
     },
     "execution_count": 53,
     "metadata": {},
     "output_type": "execute_result"
    }
   ],
   "source": [
    "wx2 = wx.copy() #Creates a copy of the DataFrame\n",
    "wx2.shape\n"
   ]
  },
  {
   "cell_type": "code",
   "execution_count": 27,
   "id": "bcb5c161-2703-4829-96c1-ff7b7a6e6668",
   "metadata": {},
   "outputs": [
    {
     "data": {
      "text/plain": [
       "True"
      ]
     },
     "execution_count": 27,
     "metadata": {},
     "output_type": "execute_result"
    }
   ],
   "source": [
    "(wx2 + wx2).equals(wx2 * 2) #Test if results are the same after two operations"
   ]
  },
  {
   "cell_type": "code",
   "execution_count": 52,
   "id": "eecead95-b7c4-4dc2-b74e-4ecff375b362",
   "metadata": {},
   "outputs": [
    {
     "data": {
      "text/plain": [
       "Index([ 0.0, 0.06,  0.0,  0.0,  0.0,  0.0, 0.04,  0.0,  0.0,  0.0,\n",
       "       ...\n",
       "        0.0,  0.0,  0.0,  0.0,  0.0,  0.0,  0.0,  0.0,  0.0,  0.0],\n",
       "      dtype='float64', name='Precip (in)', length=1734)"
      ]
     },
     "execution_count": 52,
     "metadata": {},
     "output_type": "execute_result"
    }
   ],
   "source": [
    "wx.index"
   ]
  },
  {
   "cell_type": "code",
   "execution_count": 49,
   "id": "446b26cd-9f82-4e69-bdb4-34eba3687b78",
   "metadata": {
    "collapsed": true,
    "jupyter": {
     "outputs_hidden": true
    }
   },
   "outputs": [
    {
     "data": {
      "text/html": [
       "<div>\n",
       "<style scoped>\n",
       "    .dataframe tbody tr th:only-of-type {\n",
       "        vertical-align: middle;\n",
       "    }\n",
       "\n",
       "    .dataframe tbody tr th {\n",
       "        vertical-align: top;\n",
       "    }\n",
       "\n",
       "    .dataframe thead th {\n",
       "        text-align: right;\n",
       "    }\n",
       "</style>\n",
       "<table border=\"1\" class=\"dataframe\">\n",
       "  <thead>\n",
       "    <tr style=\"text-align: right;\">\n",
       "      <th></th>\n",
       "      <th>station_id</th>\n",
       "      <th>station_name</th>\n",
       "      <th>region</th>\n",
       "      <th>date</th>\n",
       "      <th>jul</th>\n",
       "      <th>eto_in</th>\n",
       "      <th>qc</th>\n",
       "      <th>precip</th>\n",
       "      <th>qc.1</th>\n",
       "      <th>sol_rad</th>\n",
       "      <th>...</th>\n",
       "      <th>avg_rel_humidity</th>\n",
       "      <th>qc.9</th>\n",
       "      <th>dew_point</th>\n",
       "      <th>qc.10</th>\n",
       "      <th>avg_wind_speed</th>\n",
       "      <th>qc.11</th>\n",
       "      <th>wind_run_miles</th>\n",
       "      <th>qc.12</th>\n",
       "      <th>avg_soil_temp</th>\n",
       "      <th>qc.13</th>\n",
       "    </tr>\n",
       "  </thead>\n",
       "  <tbody>\n",
       "    <tr>\n",
       "      <th>0</th>\n",
       "      <td>264</td>\n",
       "      <td>Sierra Valley Center</td>\n",
       "      <td>Eastern Sierra Basin &amp; Range</td>\n",
       "      <td>11/7/2020</td>\n",
       "      <td>312</td>\n",
       "      <td>0.03</td>\n",
       "      <td></td>\n",
       "      <td>0.00</td>\n",
       "      <td></td>\n",
       "      <td>120.0</td>\n",
       "      <td>...</td>\n",
       "      <td>81.0</td>\n",
       "      <td></td>\n",
       "      <td>27.0</td>\n",
       "      <td></td>\n",
       "      <td>6.5</td>\n",
       "      <td></td>\n",
       "      <td>156.8</td>\n",
       "      <td></td>\n",
       "      <td>44.5</td>\n",
       "      <td></td>\n",
       "    </tr>\n",
       "    <tr>\n",
       "      <th>1</th>\n",
       "      <td>264</td>\n",
       "      <td>Sierra Valley Center</td>\n",
       "      <td>Eastern Sierra Basin &amp; Range</td>\n",
       "      <td>11/8/2020</td>\n",
       "      <td>313</td>\n",
       "      <td>0.04</td>\n",
       "      <td></td>\n",
       "      <td>0.06</td>\n",
       "      <td></td>\n",
       "      <td>217.0</td>\n",
       "      <td>...</td>\n",
       "      <td>81.0</td>\n",
       "      <td>Y</td>\n",
       "      <td>20.0</td>\n",
       "      <td>Y</td>\n",
       "      <td>4.2</td>\n",
       "      <td></td>\n",
       "      <td>102.0</td>\n",
       "      <td></td>\n",
       "      <td>42.7</td>\n",
       "      <td></td>\n",
       "    </tr>\n",
       "    <tr>\n",
       "      <th>2</th>\n",
       "      <td>264</td>\n",
       "      <td>Sierra Valley Center</td>\n",
       "      <td>Eastern Sierra Basin &amp; Range</td>\n",
       "      <td>11/9/2020</td>\n",
       "      <td>314</td>\n",
       "      <td>0.04</td>\n",
       "      <td></td>\n",
       "      <td>0.00</td>\n",
       "      <td></td>\n",
       "      <td>269.0</td>\n",
       "      <td>...</td>\n",
       "      <td>80.0</td>\n",
       "      <td>Y</td>\n",
       "      <td>14.3</td>\n",
       "      <td>Y</td>\n",
       "      <td>3.6</td>\n",
       "      <td></td>\n",
       "      <td>86.7</td>\n",
       "      <td></td>\n",
       "      <td>38.0</td>\n",
       "      <td>Y</td>\n",
       "    </tr>\n",
       "    <tr>\n",
       "      <th>3</th>\n",
       "      <td>264</td>\n",
       "      <td>Sierra Valley Center</td>\n",
       "      <td>Eastern Sierra Basin &amp; Range</td>\n",
       "      <td>11/10/2020</td>\n",
       "      <td>315</td>\n",
       "      <td>0.07</td>\n",
       "      <td></td>\n",
       "      <td>0.00</td>\n",
       "      <td></td>\n",
       "      <td>289.0</td>\n",
       "      <td>...</td>\n",
       "      <td>65.0</td>\n",
       "      <td></td>\n",
       "      <td>19.7</td>\n",
       "      <td></td>\n",
       "      <td>3.9</td>\n",
       "      <td></td>\n",
       "      <td>92.7</td>\n",
       "      <td></td>\n",
       "      <td>38.1</td>\n",
       "      <td>Y</td>\n",
       "    </tr>\n",
       "    <tr>\n",
       "      <th>4</th>\n",
       "      <td>264</td>\n",
       "      <td>Sierra Valley Center</td>\n",
       "      <td>Eastern Sierra Basin &amp; Range</td>\n",
       "      <td>11/11/2020</td>\n",
       "      <td>316</td>\n",
       "      <td>0.06</td>\n",
       "      <td></td>\n",
       "      <td>0.00</td>\n",
       "      <td></td>\n",
       "      <td>256.0</td>\n",
       "      <td>...</td>\n",
       "      <td>66.0</td>\n",
       "      <td></td>\n",
       "      <td>19.2</td>\n",
       "      <td></td>\n",
       "      <td>3.2</td>\n",
       "      <td></td>\n",
       "      <td>77.1</td>\n",
       "      <td></td>\n",
       "      <td>38.2</td>\n",
       "      <td>Y</td>\n",
       "    </tr>\n",
       "  </tbody>\n",
       "</table>\n",
       "<p>5 rows × 33 columns</p>\n",
       "</div>"
      ],
      "text/plain": [
       "   station_id          station_name                        region        date  \\\n",
       "0         264  Sierra Valley Center  Eastern Sierra Basin & Range   11/7/2020   \n",
       "1         264  Sierra Valley Center  Eastern Sierra Basin & Range   11/8/2020   \n",
       "2         264  Sierra Valley Center  Eastern Sierra Basin & Range   11/9/2020   \n",
       "3         264  Sierra Valley Center  Eastern Sierra Basin & Range  11/10/2020   \n",
       "4         264  Sierra Valley Center  Eastern Sierra Basin & Range  11/11/2020   \n",
       "\n",
       "   jul  eto_in qc  precip qc.1  sol_rad  ... avg_rel_humidity  qc.9 dew_point  \\\n",
       "0  312    0.03       0.00         120.0  ...             81.0            27.0   \n",
       "1  313    0.04       0.06         217.0  ...             81.0     Y      20.0   \n",
       "2  314    0.04       0.00         269.0  ...             80.0     Y      14.3   \n",
       "3  315    0.07       0.00         289.0  ...             65.0            19.7   \n",
       "4  316    0.06       0.00         256.0  ...             66.0            19.2   \n",
       "\n",
       "   qc.10 avg_wind_speed  qc.11 wind_run_miles  qc.12 avg_soil_temp  qc.13  \n",
       "0                   6.5                 156.8                 44.5         \n",
       "1      Y            4.2                 102.0                 42.7         \n",
       "2      Y            3.6                  86.7                 38.0      Y  \n",
       "3                   3.9                  92.7                 38.1      Y  \n",
       "4                   3.2                  77.1                 38.2      Y  \n",
       "\n",
       "[5 rows x 33 columns]"
      ]
     },
     "execution_count": 49,
     "metadata": {},
     "output_type": "execute_result"
    }
   ],
   "source": [
    "wx2.head()"
   ]
  },
  {
   "cell_type": "code",
   "execution_count": 82,
   "id": "78624a66-883c-477c-8782-03c1b0813d12",
   "metadata": {},
   "outputs": [
    {
     "data": {
      "text/plain": [
       "<bound method DataFrame.info of              station_id          station_name                        region  \\\n",
       "Precip (in)                                                                   \n",
       "0.00                264  Sierra Valley Center  Eastern Sierra Basin & Range   \n",
       "0.06                264  Sierra Valley Center  Eastern Sierra Basin & Range   \n",
       "0.00                264  Sierra Valley Center  Eastern Sierra Basin & Range   \n",
       "0.00                264  Sierra Valley Center  Eastern Sierra Basin & Range   \n",
       "0.00                264  Sierra Valley Center  Eastern Sierra Basin & Range   \n",
       "...                 ...                   ...                           ...   \n",
       "0.00                264  Sierra Valley Center  Eastern Sierra Basin & Range   \n",
       "0.00                264  Sierra Valley Center  Eastern Sierra Basin & Range   \n",
       "0.00                264  Sierra Valley Center  Eastern Sierra Basin & Range   \n",
       "0.00                264  Sierra Valley Center  Eastern Sierra Basin & Range   \n",
       "0.00                264  Sierra Valley Center  Eastern Sierra Basin & Range   \n",
       "\n",
       "                   date  jul  eto_in qc qc.1  sol_rad qc.2  ...  \\\n",
       "Precip (in)                                                 ...   \n",
       "0.00          11/7/2020  312    0.03            120.0       ...   \n",
       "0.06          11/8/2020  313    0.04            217.0       ...   \n",
       "0.00          11/9/2020  314    0.04            269.0       ...   \n",
       "0.00         11/10/2020  315    0.07            289.0       ...   \n",
       "0.00         11/11/2020  316    0.06            256.0       ...   \n",
       "...                 ...  ...     ... ..  ...      ...  ...  ...   \n",
       "0.00           8/3/2025  215    0.27  R         693.0       ...   \n",
       "0.00           8/4/2025  216    0.26  R         685.0       ...   \n",
       "0.00           8/5/2025  217    0.25  R         682.0       ...   \n",
       "0.00           8/6/2025  218    0.23            618.0       ...   \n",
       "0.00           8/7/2025  219    0.25            660.0       ...   \n",
       "\n",
       "             avg_rel_humidity qc.9  dew_point qc.10  avg_wind_speed qc.11  \\\n",
       "Precip (in)                                                                 \n",
       "0.00                     81.0            27.0                   6.5         \n",
       "0.06                     81.0    Y       20.0     Y             4.2         \n",
       "0.00                     80.0    Y       14.3     Y             3.6         \n",
       "0.00                     65.0            19.7                   3.9         \n",
       "0.00                     66.0            19.2                   3.2         \n",
       "...                       ...  ...        ...   ...             ...   ...   \n",
       "0.00                     39.0    Y       35.6     Y             5.4         \n",
       "0.00                     43.0    Y       36.8     Y             5.1         \n",
       "0.00                     42.0    Y       37.2     Y             4.4         \n",
       "0.00                     44.0            39.1                   4.3         \n",
       "0.00                     47.0            42.2                   4.5         \n",
       "\n",
       "             wind_run_miles qc.12  avg_soil_temp qc.13  \n",
       "Precip (in)                                             \n",
       "0.00                  156.8                 44.5        \n",
       "0.06                  102.0                 42.7        \n",
       "0.00                   86.7                 38.0     Y  \n",
       "0.00                   92.7                 38.1     Y  \n",
       "0.00                   77.1                 38.2     Y  \n",
       "...                     ...   ...            ...   ...  \n",
       "0.00                  130.5                 64.9        \n",
       "0.00                  122.9                 64.7        \n",
       "0.00                  106.4                 64.5        \n",
       "0.00                  102.4                 64.4        \n",
       "0.00                  107.5                 64.8        \n",
       "\n",
       "[1734 rows x 32 columns]>"
      ]
     },
     "execution_count": 82,
     "metadata": {},
     "output_type": "execute_result"
    }
   ],
   "source": [
    "wx.info\n"
   ]
  },
  {
   "cell_type": "code",
   "execution_count": 85,
   "id": "7cf3ca80-2836-4267-881a-8dcb546ed3fe",
   "metadata": {},
   "outputs": [
    {
     "data": {
      "text/plain": [
       "np.float64(0.034246100519930676)"
      ]
     },
     "execution_count": 85,
     "metadata": {},
     "output_type": "execute_result"
    }
   ],
   "source": [
    "wx['precip'].mean()"
   ]
  },
  {
   "cell_type": "code",
   "execution_count": 89,
   "id": "af918c48-7395-4104-bb12-dba30c93024a",
   "metadata": {},
   "outputs": [
    {
     "data": {
      "text/plain": [
       "np.float64(62.83491329479769)"
      ]
     },
     "execution_count": 89,
     "metadata": {},
     "output_type": "execute_result"
    }
   ],
   "source": [
    "wx['max_air_temp'].mean()"
   ]
  },
  {
   "cell_type": "code",
   "execution_count": 107,
   "id": "576bf3af-15a5-4114-b18c-e996191992f2",
   "metadata": {},
   "outputs": [],
   "source": [
    "precipplt = wx['precip']\n",
    "tempplt= wx['avg_air_temp']\n",
    "dateplt = wx['date']"
   ]
  },
  {
   "cell_type": "code",
   "execution_count": 110,
   "id": "0f9c0b33-8c83-4076-97ae-1c1af9d8d45c",
   "metadata": {},
   "outputs": [
    {
     "data": {
      "text/plain": [
       "0       0.00\n",
       "1       0.06\n",
       "2       0.00\n",
       "3       0.00\n",
       "4       0.00\n",
       "        ... \n",
       "1729    0.00\n",
       "1730    0.00\n",
       "1731    0.00\n",
       "1732    0.00\n",
       "1733    0.00\n",
       "Name: precip, Length: 1734, dtype: float64"
      ]
     },
     "execution_count": 110,
     "metadata": {},
     "output_type": "execute_result"
    }
   ],
   "source": [
    "dateplt\n",
    "precipplt"
   ]
  },
  {
   "cell_type": "code",
   "execution_count": 139,
   "id": "2adda6f4-e866-43b0-b315-b5d4c3903efe",
   "metadata": {},
   "outputs": [
    {
     "data": {
      "image/png": "[encoded data removed]",
      "text/plain": [
       "<Figure size 640x480 with 1 Axes>"
      ]
     },
     "metadata": {},
     "output_type": "display_data"
    }
   ],
   "source": [
    "plt.plot(dateplt,tempplt, color='green', linestyle=(0, (5,5)))\n",
    "plt.gca().xaxis.set_major_locator(pltd.MonthLocator(interval=3))\n",
    "#plt.gca().yaxis.set_major_formatter(pltd.DateFormatter('%m/%d/%Y'))\n",
    "plt.xticks(rotation=45)\n",
    "plt.xlabel('Date')\n",
    "plt.ylabel('Average Daily Temperature (F)')\n",
    "plt.title(' AVG Temperature ')\n",
    "plt.show()"
   ]
  },
  {
   "cell_type": "code",
   "execution_count": 138,
   "id": "a2a6e4d4-7c88-442f-8ee9-3cd43f49b631",
   "metadata": {},
   "outputs": [
    {
     "data": {
      "image/png": "[encoded data removed]",
      "text/plain": [
       "<Figure size 640x480 with 1 Axes>"
      ]
     },
     "metadata": {},
     "output_type": "display_data"
    }
   ],
   "source": [
    "plt.plot(dateplt, precipplt, color='blue', linestyle=(0, (5,5)))\n",
    "plt.gca().xaxis.set_major_locator(pltd.MonthLocator(interval=3))\n",
    "#plt.gca().yaxis.set_major_formatter(pltd.DateFormatter('%m/%d/%Y'))\n",
    "plt.xticks(rotation=45)\n",
    "plt.xlabel('Date')\n",
    "plt.ylabel('Average Precipitation')\n",
    "plt.title(' Precipitation Graph ')\n",
    "plt.show()"
   ]
  },
  {
   "cell_type": "code",
   "execution_count": 143,
   "id": "76e55ece-c0bf-4686-b218-74ed116edbb1",
   "metadata": {},
   "outputs": [
    {
     "data": {
      "text/plain": [
       "350"
      ]
     },
     "execution_count": 143,
     "metadata": {},
     "output_type": "execute_result"
    }
   ],
   "source": [
    "wx['precip'].idxmax()"
   ]
  },
  {
   "cell_type": "code",
   "execution_count": 145,
   "id": "55e020ef-62f2-432d-8fc6-599fae06039b",
   "metadata": {},
   "outputs": [
    {
     "name": "stdout",
     "output_type": "stream",
     "text": [
      "<class 'pandas.core.frame.DataFrame'>\n",
      "RangeIndex: 1734 entries, 0 to 1733\n",
      "Data columns (total 33 columns):\n",
      " #   Column            Non-Null Count  Dtype  \n",
      "---  ------            --------------  -----  \n",
      " 0   station_id        1734 non-null   int64  \n",
      " 1   station_name      1734 non-null   object \n",
      " 2   region            1734 non-null   object \n",
      " 3   date              1734 non-null   object \n",
      " 4   jul               1734 non-null   int64  \n",
      " 5   eto_in            1734 non-null   float64\n",
      " 6   qc                1734 non-null   object \n",
      " 7   precip            1731 non-null   float64\n",
      " 8   qc.1              1734 non-null   object \n",
      " 9   sol_rad           1731 non-null   float64\n",
      " 10  qc.2              1734 non-null   object \n",
      " 11  avg_vap_pressure  1731 non-null   float64\n",
      " 12  qc.3              1734 non-null   object \n",
      " 13  max_air_temp      1730 non-null   float64\n",
      " 14  qc.4              1734 non-null   object \n",
      " 15  min_air_temp      1728 non-null   float64\n",
      " 16  qc.5              1734 non-null   object \n",
      " 17  avg_air_temp      1729 non-null   float64\n",
      " 18  qc.6              1734 non-null   object \n",
      " 19  max_rel_humidity  1731 non-null   float64\n",
      " 20  qc.7              1734 non-null   object \n",
      " 21  min_rel_humidity  1731 non-null   float64\n",
      " 22  qc.8              1734 non-null   object \n",
      " 23  avg_rel_humidity  1714 non-null   float64\n",
      " 24  qc.9              1734 non-null   object \n",
      " 25  dew_point         1714 non-null   float64\n",
      " 26  qc.10             1734 non-null   object \n",
      " 27  avg_wind_speed    1731 non-null   float64\n",
      " 28  qc.11             1734 non-null   object \n",
      " 29  wind_run_miles    1731 non-null   float64\n",
      " 30  qc.12             1734 non-null   object \n",
      " 31  avg_soil_temp     1731 non-null   float64\n",
      " 32  qc.13             1734 non-null   object \n",
      "dtypes: float64(14), int64(2), object(17)\n",
      "memory usage: 447.2+ KB\n"
     ]
    }
   ],
   "source": [
    "wx.info(350)\n"
   ]
  },
  {
   "cell_type": "code",
   "execution_count": null,
   "id": "60a60d28-bb72-497f-b96e-a77e9233854a",
   "metadata": {},
   "outputs": [],
   "source": []
  }
 ],
 "metadata": {
  "kernelspec": {
   "display_name": "Python 3 (ipykernel)",
   "language": "python",
   "name": "python3"
  },
  "language_info": {
   "codemirror_mode": {
    "name": "ipython",
    "version": 3
   },
   "file_extension": ".py",
   "mimetype": "text/x-python",
   "name": "python",
   "nbconvert_exporter": "python",
   "pygments_lexer": "ipython3",
   "version": "3.11.13"
  }
 },
 "nbformat": 4,
 "nbformat_minor": 5
}
