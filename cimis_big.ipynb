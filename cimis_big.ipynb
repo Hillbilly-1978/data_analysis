{
 "cells": [
  {
   "cell_type": "code",
   "execution_count": 1,
   "id": "05c2813d-c4ba-4f6a-a2fc-e23796ff6c69",
   "metadata": {},
   "outputs": [],
   "source": [
    "import pandas as pd\n",
    "from pandas import DataFrame"
   ]
  },
  {
   "cell_type": "code",
   "execution_count": 2,
   "id": "7f6f31b3-39d7-4ed7-baf5-96dbf9e3d62c",
   "metadata": {},
   "outputs": [],
   "source": [
    "column_mapping = {\n",
    "    'Stn Id': 'station_id',\n",
    "    'Stn Name': 'station_name',\n",
    "    'CIMIS Region': 'region',\n",
    "    'Date': 'date',\n",
    "    'Jul': 'jul',\n",
    "    'ETo (in)': 'eto_in',\n",
    "    'Precip (in)': 'precip',\n",
    "    'Sol Rad (Ly/day)': 'sol_rad',\n",
    "    'Avg Vap Pres (mBars)': 'avg_vap_pressure',\n",
    "    'Max Air Temp (F)': 'max_air_temp',\n",
    "    'Min Air Temp (F)': 'min_air_temp',\n",
    "    'Min Air Temp (F)': 'min_air_temp',\n",
    "    'Avg Air Temp (F)': 'avg_air_temp',\n",
    "    'Max Rel Hum (%)': 'max_rel_humidity',\n",
    "    'Min Rel Hum (%)': 'min_rel_humidity',\n",
    "    'Avg Rel Hum (%)': 'avg_rel_humidity',\n",
    "    'Dew Point (F)': 'dew_point',\n",
    "    'Avg Wind Speed (mph)': 'avg_wind_speed',\n",
    "    'Wind Run (miles)': 'wind_run_miles',\n",
    "    'Avg Soil Temp (F)': 'avg_soil_temp',\n",
    "\n",
    "}"
   ]
  },
  {
   "cell_type": "code",
   "execution_count": 5,
   "id": "46e2c994-74c0-4660-9dff-b50ae718bb74",
   "metadata": {},
   "outputs": [],
   "source": [
    "wx = pd.read_csv(\"cimis_11-20-8-25.csv\")\n",
    "wx = wx.rename(columns=column_mapping)"
   ]
  },
  {
   "cell_type": "code",
   "execution_count": 8,
   "id": "a9b7d88b-c0df-4a4d-87ec-2a7f20a37df5",
   "metadata": {},
   "outputs": [
    {
     "name": "stdout",
     "output_type": "stream",
     "text": [
      "date            7/10/2021\n",
      "max_air_temp         99.0\n",
      "Name: 244, dtype: object\n"
     ]
    }
   ],
   "source": [
    "print(wx.loc[wx[\"max_air_temp\"].idxmax(), [\"date\", \"max_air_temp\"]])"
   ]
  },
  {
   "cell_type": "raw",
   "id": "22b8e893-4b1a-4c12-bf81-9abce948abfc",
   "metadata": {},
   "source": [
    "highest_temp = wx[wx['date'] == '7/10/2021']\n",
    "print(highest_temp)"
   ]
  },
  {
   "cell_type": "code",
   "execution_count": 11,
   "id": "5477edc3-c844-45e4-83c1-444f787c4cd9",
   "metadata": {},
   "outputs": [
    {
     "name": "stdout",
     "output_type": "stream",
     "text": [
      "date            7/13/2024\n",
      "min_air_temp         62.0\n",
      "Name: 1343, dtype: object\n"
     ]
    }
   ],
   "source": [
    "print(wx.loc[wx[\"min_air_temp\"].idxmax(), [\"date\", \"min_air_temp\"]])"
   ]
  },
  {
   "cell_type": "code",
   "execution_count": 15,
   "id": "5c551439-c553-4da7-8375-8d5928efc024",
   "metadata": {},
   "outputs": [
    {
     "name": "stdout",
     "output_type": "stream",
     "text": [
      "(1734, 33)\n",
      "1/1/2021 9/9/2024\n"
     ]
    }
   ],
   "source": [
    "print(wx.shape)\n",
    "print(wx['date'].min(), wx['date'].max()) "
   ]
  },
  {
   "cell_type": "code",
   "execution_count": 16,
   "id": "8570b3e9-a110-47e7-84c9-5c4a1c622aff",
   "metadata": {},
   "outputs": [
    {
     "name": "stdout",
     "output_type": "stream",
     "text": [
      "\n",
      "Lowest 10 temps\n",
      "            date  min_air_temp\n",
      "419     1/1/2022         -13.8\n",
      "1155    1/7/2024         -13.2\n",
      "814    1/31/2023         -11.4\n",
      "420     1/2/2022         -10.9\n",
      "754    12/2/2022          -9.9\n",
      "402   12/15/2021          -7.2\n",
      "404   12/17/2021          -7.2\n",
      "1156    1/8/2024          -6.9\n",
      "804    1/21/2023          -6.8\n",
      "771   12/19/2022          -6.2\n"
     ]
    }
   ],
   "source": [
    "print('\\nLowest 10 temps')\n",
    "print(wx.nsmallest(10, 'min_air_temp')[['date', 'min_air_temp']])"
   ]
  },
  {
   "cell_type": "code",
   "execution_count": 18,
   "id": "c70b9fb2-7226-4bab-904d-b05dba29487c",
   "metadata": {},
   "outputs": [
    {
     "name": "stdout",
     "output_type": "stream",
     "text": [
      "\n",
      "Highest 10 temps\n",
      "           date  max_air_temp\n",
      "244   7/10/2021          99.0\n",
      "232   6/28/2021          98.5\n",
      "245   7/11/2021          98.4\n",
      "246   7/12/2021          98.2\n",
      "280   8/15/2021          97.7\n",
      "1708  7/13/2025          97.7\n",
      "243    7/9/2021          97.4\n",
      "281   8/16/2021          97.4\n",
      "628   7/29/2022          97.4\n",
      "667    9/6/2022          97.4\n"
     ]
    }
   ],
   "source": [
    "print('\\nHighest 10 temps')\n",
    "print(wx.nlargest(10, 'max_air_temp')[['date', 'max_air_temp']])"
   ]
  },
  {
   "cell_type": "code",
   "execution_count": null,
   "id": "6bba46da-1405-4448-a335-ca8cb746f5e5",
   "metadata": {},
   "outputs": [],
   "source": []
  }
 ],
 "metadata": {
  "kernelspec": {
   "display_name": "Python 3 (ipykernel)",
   "language": "python",
   "name": "python3"
  },
  "language_info": {
   "codemirror_mode": {
    "name": "ipython",
    "version": 3
   },
   "file_extension": ".py",
   "mimetype": "text/x-python",
   "name": "python",
   "nbconvert_exporter": "python",
   "pygments_lexer": "ipython3",
   "version": "3.13.5"
  }
 },
 "nbformat": 4,
 "nbformat_minor": 5
}
